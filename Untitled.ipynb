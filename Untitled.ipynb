{
 "cells": [
  {
   "cell_type": "code",
   "execution_count": 7,
   "metadata": {
    "collapsed": false
   },
   "outputs": [],
   "source": [
    "%reload_ext ampl"
   ]
  },
  {
   "cell_type": "code",
   "execution_count": 8,
   "metadata": {
    "collapsed": false
   },
   "outputs": [
    {
     "name": "stdout",
     "output_type": "stream",
     "text": [
      "Couldn't find program: 'ampl'\n"
     ]
    }
   ],
   "source": [
    "%%ampl\n",
    "reset;\n",
    "\n",
    "set Plants;\n",
    "set Markets;\n",
    "\n",
    "# Capacity of plant p in cases\n",
    "param Capacity{p in Plants};\n",
    "\n",
    "# Demand at market m in cases\n",
    "param Demand{m in Markets};\n",
    "\n",
    "# Distance in thousands of miles\n",
    "param Distance{Plants, Markets};\n",
    "\n",
    "# Freight in dollars per case per thousand miles\n",
    "param Freight;\n",
    "\n",
    "# Transport cost in thousands of dollars per case\n",
    "param TransportCost{p in Plants, m in Markets} :=\n",
    "    Freight * Distance[p, m] / 1000; \n",
    "\n",
    "# Shipment quantities in cases\n",
    "var shipment{Plants, Markets} >= 0;\n",
    "\n",
    "# Total transportation costs in thousands of dollars\n",
    "minimize cost:\n",
    "    sum{p in Plants, m in Markets} TransportCost[p, m] * shipment[p, m];\n",
    "\n",
    "# Observe supply limit at plant p\n",
    "s.t. supply{p in Plants}: sum{m in Markets} shipment[p, m] <= Capacity[p];\n",
    "\n",
    "# Satisfy demand at market m\n",
    "s.t. demand{m in Markets}: sum{p in Plants} shipment[p, m] >= Demand[m];\n",
    "\n",
    "data;\n",
    "\n",
    "set Plants := seattle san-diego;\n",
    "set Markets := new-york chicago topeka;\n",
    "\n",
    "param Capacity :=\n",
    "    seattle   350\n",
    "    san-diego 600;\n",
    "\n",
    "param Demand :=\n",
    "    new-york 325\n",
    "    chicago  300\n",
    "    topeka   275;\n",
    "\n",
    "param Distance : new-york chicago topeka :=\n",
    "    seattle        2.5      1.7     1.8\n",
    "    san-diego      2.5      1.8     1.4;\n",
    "\n",
    "param Freight := 90;\n",
    "\n",
    "solve;"
   ]
  },
  {
   "cell_type": "code",
   "execution_count": null,
   "metadata": {
    "collapsed": true
   },
   "outputs": [],
   "source": []
  }
 ],
 "metadata": {
  "kernelspec": {
   "display_name": "Python 2",
   "language": "python",
   "name": "python2"
  },
  "language_info": {
   "codemirror_mode": {
    "name": "ipython",
    "version": 2
   },
   "file_extension": ".py",
   "mimetype": "text/x-python",
   "name": "python",
   "nbconvert_exporter": "python",
   "pygments_lexer": "ipython2",
   "version": "2.7.12"
  }
 },
 "nbformat": 4,
 "nbformat_minor": 1
}
